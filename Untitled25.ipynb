{
  "nbformat": 4,
  "nbformat_minor": 0,
  "metadata": {
    "colab": {
      "name": "Untitled25.ipynb",
      "provenance": [],
      "collapsed_sections": [],
      "authorship_tag": "ABX9TyPxU/acmBwlOje3shARG/cv",
      "include_colab_link": true
    },
    "kernelspec": {
      "name": "python3",
      "display_name": "Python 3"
    }
  },
  "cells": [
    {
      "cell_type": "markdown",
      "metadata": {
        "id": "view-in-github",
        "colab_type": "text"
      },
      "source": [
        "<a href=\"https://colab.research.google.com/github/nirbhay221/NeuralNetwork/blob/master/Untitled25.ipynb\" target=\"_parent\"><img src=\"https://colab.research.google.com/assets/colab-badge.svg\" alt=\"Open In Colab\"/></a>"
      ]
    },
    {
      "cell_type": "code",
      "metadata": {
        "id": "DmPEeiTSBgGP",
        "colab_type": "code",
        "colab": {}
      },
      "source": [
        "import pandas as pd \n",
        "import numpy as np \n",
        "import matplotlib.pyplot as plt\n",
        "import sklearn\n",
        "from sklearn.model_selection import train_test_split"
      ],
      "execution_count": null,
      "outputs": []
    },
    {
      "cell_type": "code",
      "metadata": {
        "id": "Kk8DCLngkJNa",
        "colab_type": "code",
        "colab": {}
      },
      "source": [
        "df = pd.read_csv(\"student_scores2.csv\")"
      ],
      "execution_count": null,
      "outputs": []
    },
    {
      "cell_type": "code",
      "metadata": {
        "id": "wQyirjSjlKMs",
        "colab_type": "code",
        "colab": {
          "base_uri": "https://localhost:8080/",
          "height": 297
        },
        "outputId": "34ded0ea-68e0-4e19-d2e3-0603b1279909"
      },
      "source": [
        "df.describe()"
      ],
      "execution_count": null,
      "outputs": [
        {
          "output_type": "execute_result",
          "data": {
            "text/html": [
              "<div>\n",
              "<style scoped>\n",
              "    .dataframe tbody tr th:only-of-type {\n",
              "        vertical-align: middle;\n",
              "    }\n",
              "\n",
              "    .dataframe tbody tr th {\n",
              "        vertical-align: top;\n",
              "    }\n",
              "\n",
              "    .dataframe thead th {\n",
              "        text-align: right;\n",
              "    }\n",
              "</style>\n",
              "<table border=\"1\" class=\"dataframe\">\n",
              "  <thead>\n",
              "    <tr style=\"text-align: right;\">\n",
              "      <th></th>\n",
              "      <th>Hours</th>\n",
              "      <th>IQ</th>\n",
              "      <th>Scores</th>\n",
              "      <th>Pass</th>\n",
              "    </tr>\n",
              "  </thead>\n",
              "  <tbody>\n",
              "    <tr>\n",
              "      <th>count</th>\n",
              "      <td>31.000000</td>\n",
              "      <td>31.000000</td>\n",
              "      <td>31.000000</td>\n",
              "      <td>31.000000</td>\n",
              "    </tr>\n",
              "    <tr>\n",
              "      <th>mean</th>\n",
              "      <td>4.625806</td>\n",
              "      <td>97.419355</td>\n",
              "      <td>53.064516</td>\n",
              "      <td>0.677419</td>\n",
              "    </tr>\n",
              "    <tr>\n",
              "      <th>std</th>\n",
              "      <td>2.454108</td>\n",
              "      <td>15.484991</td>\n",
              "      <td>23.578147</td>\n",
              "      <td>0.475191</td>\n",
              "    </tr>\n",
              "    <tr>\n",
              "      <th>min</th>\n",
              "      <td>1.100000</td>\n",
              "      <td>70.000000</td>\n",
              "      <td>17.000000</td>\n",
              "      <td>0.000000</td>\n",
              "    </tr>\n",
              "    <tr>\n",
              "      <th>25%</th>\n",
              "      <td>2.600000</td>\n",
              "      <td>90.000000</td>\n",
              "      <td>30.000000</td>\n",
              "      <td>0.000000</td>\n",
              "    </tr>\n",
              "    <tr>\n",
              "      <th>50%</th>\n",
              "      <td>4.500000</td>\n",
              "      <td>100.000000</td>\n",
              "      <td>54.000000</td>\n",
              "      <td>1.000000</td>\n",
              "    </tr>\n",
              "    <tr>\n",
              "      <th>75%</th>\n",
              "      <td>6.450000</td>\n",
              "      <td>110.000000</td>\n",
              "      <td>70.000000</td>\n",
              "      <td>1.000000</td>\n",
              "    </tr>\n",
              "    <tr>\n",
              "      <th>max</th>\n",
              "      <td>9.200000</td>\n",
              "      <td>130.000000</td>\n",
              "      <td>95.000000</td>\n",
              "      <td>1.000000</td>\n",
              "    </tr>\n",
              "  </tbody>\n",
              "</table>\n",
              "</div>"
            ],
            "text/plain": [
              "           Hours          IQ     Scores       Pass\n",
              "count  31.000000   31.000000  31.000000  31.000000\n",
              "mean    4.625806   97.419355  53.064516   0.677419\n",
              "std     2.454108   15.484991  23.578147   0.475191\n",
              "min     1.100000   70.000000  17.000000   0.000000\n",
              "25%     2.600000   90.000000  30.000000   0.000000\n",
              "50%     4.500000  100.000000  54.000000   1.000000\n",
              "75%     6.450000  110.000000  70.000000   1.000000\n",
              "max     9.200000  130.000000  95.000000   1.000000"
            ]
          },
          "metadata": {
            "tags": []
          },
          "execution_count": 3
        }
      ]
    },
    {
      "cell_type": "code",
      "metadata": {
        "id": "i7g4t5zvlLpU",
        "colab_type": "code",
        "colab": {
          "base_uri": "https://localhost:8080/",
          "height": 204
        },
        "outputId": "a8c65d82-ccb5-4485-c1f1-2026c190ac76"
      },
      "source": [
        "df.head()\n"
      ],
      "execution_count": null,
      "outputs": [
        {
          "output_type": "execute_result",
          "data": {
            "text/html": [
              "<div>\n",
              "<style scoped>\n",
              "    .dataframe tbody tr th:only-of-type {\n",
              "        vertical-align: middle;\n",
              "    }\n",
              "\n",
              "    .dataframe tbody tr th {\n",
              "        vertical-align: top;\n",
              "    }\n",
              "\n",
              "    .dataframe thead th {\n",
              "        text-align: right;\n",
              "    }\n",
              "</style>\n",
              "<table border=\"1\" class=\"dataframe\">\n",
              "  <thead>\n",
              "    <tr style=\"text-align: right;\">\n",
              "      <th></th>\n",
              "      <th>Hours</th>\n",
              "      <th>IQ</th>\n",
              "      <th>Scores</th>\n",
              "      <th>Pass</th>\n",
              "    </tr>\n",
              "  </thead>\n",
              "  <tbody>\n",
              "    <tr>\n",
              "      <th>0</th>\n",
              "      <td>2.3</td>\n",
              "      <td>80</td>\n",
              "      <td>18</td>\n",
              "      <td>0</td>\n",
              "    </tr>\n",
              "    <tr>\n",
              "      <th>1</th>\n",
              "      <td>5.0</td>\n",
              "      <td>80</td>\n",
              "      <td>45</td>\n",
              "      <td>1</td>\n",
              "    </tr>\n",
              "    <tr>\n",
              "      <th>2</th>\n",
              "      <td>3.2</td>\n",
              "      <td>70</td>\n",
              "      <td>25</td>\n",
              "      <td>0</td>\n",
              "    </tr>\n",
              "    <tr>\n",
              "      <th>3</th>\n",
              "      <td>8.5</td>\n",
              "      <td>90</td>\n",
              "      <td>72</td>\n",
              "      <td>1</td>\n",
              "    </tr>\n",
              "    <tr>\n",
              "      <th>4</th>\n",
              "      <td>3.5</td>\n",
              "      <td>70</td>\n",
              "      <td>30</td>\n",
              "      <td>0</td>\n",
              "    </tr>\n",
              "  </tbody>\n",
              "</table>\n",
              "</div>"
            ],
            "text/plain": [
              "   Hours  IQ  Scores  Pass\n",
              "0    2.3  80      18     0\n",
              "1    5.0  80      45     1\n",
              "2    3.2  70      25     0\n",
              "3    8.5  90      72     1\n",
              "4    3.5  70      30     0"
            ]
          },
          "metadata": {
            "tags": []
          },
          "execution_count": 4
        }
      ]
    },
    {
      "cell_type": "code",
      "metadata": {
        "id": "UvPbDV0AlRP6",
        "colab_type": "code",
        "colab": {
          "base_uri": "https://localhost:8080/",
          "height": 275
        },
        "outputId": "87ceacf0-8e9d-4ab6-c796-21d7c0663c77"
      },
      "source": [
        "df.plot.scatter(x = \"Hours\",y=\"IQ\" ,c =\"Pass\",colormap = \"bwr\")"
      ],
      "execution_count": null,
      "outputs": [
        {
          "output_type": "execute_result",
          "data": {
            "text/plain": [
              "<matplotlib.axes._subplots.AxesSubplot at 0x7f61df13d160>"
            ]
          },
          "metadata": {
            "tags": []
          },
          "execution_count": 6
        },
        {
          "output_type": "display_data",
          "data": {
            "image/png": "[encoded data removed]",
            "text/plain": [
              "<Figure size 432x288 with 2 Axes>"
            ]
          },
          "metadata": {
            "tags": [],
            "needs_background": "light"
          }
        }
      ]
    },
    {
      "cell_type": "code",
      "metadata": {
        "id": "JyXzFvcplekv",
        "colab_type": "code",
        "colab": {}
      },
      "source": [
        "x = df.drop([\"Scores\",\"Pass\"],axis = 1).values\n",
        "y = df[\"Pass\"].values.reshape(-1,1)\n",
        "x_train,x_test,y_train,y_test = train_test_split(x,y,test_size = 0.2 , random_state =42)"
      ],
      "execution_count": null,
      "outputs": []
    },
    {
      "cell_type": "code",
      "metadata": {
        "id": "aSVOjEsimB7u",
        "colab_type": "code",
        "colab": {}
      },
      "source": [
        "from sklearn.preprocessing import StandardScaler"
      ],
      "execution_count": null,
      "outputs": []
    },
    {
      "cell_type": "code",
      "metadata": {
        "id": "S7Tt-XnBoZBH",
        "colab_type": "code",
        "colab": {}
      },
      "source": [
        "Scaler = StandardScaler()"
      ],
      "execution_count": null,
      "outputs": []
    },
    {
      "cell_type": "code",
      "metadata": {
        "id": "XmzBYdDtooJT",
        "colab_type": "code",
        "colab": {
          "base_uri": "https://localhost:8080/",
          "height": 34
        },
        "outputId": "44b90553-4d96-4ab4-d62e-f3b6be32fee1"
      },
      "source": [
        "Scaler.fit(x_train)"
      ],
      "execution_count": null,
      "outputs": [
        {
          "output_type": "execute_result",
          "data": {
            "text/plain": [
              "StandardScaler(copy=True, with_mean=True, with_std=True)"
            ]
          },
          "metadata": {
            "tags": []
          },
          "execution_count": 14
        }
      ]
    },
    {
      "cell_type": "code",
      "metadata": {
        "id": "s_8BHDZioq4C",
        "colab_type": "code",
        "colab": {
          "base_uri": "https://localhost:8080/",
          "height": 527
        },
        "outputId": "1683d080-dafd-48e5-eb08-cf4a0b9535f5"
      },
      "source": [
        "x_train = Scaler.transform(x_train)\n",
        "x_test = Scaler.transform(x_test)\n",
        "x_train,x_test"
      ],
      "execution_count": null,
      "outputs": [
        {
          "output_type": "execute_result",
          "data": {
            "text/plain": [
              "(array([[ 1.27317349,  0.31150101],\n",
              "        [ 0.00727528,  1.67077814],\n",
              "        [-0.9530613 , -1.04777612],\n",
              "        [-0.42924135, -1.72741469],\n",
              "        [-0.86575797,  0.31150101],\n",
              "        [-1.3022746 , -1.04777612],\n",
              "        [-0.47289301,  0.31150101],\n",
              "        [ 0.61839855,  0.31150101],\n",
              "        [-0.34193802, -1.04777612],\n",
              "        [ 0.22553359, -1.04777612],\n",
              "        [-0.56019633, -1.72741469],\n",
              "        [-0.9530613 ,  1.67077814],\n",
              "        [ 1.75334177, -0.36813756],\n",
              "        [ 0.13823026, -0.36813756],\n",
              "        [ 0.18188193,  0.99113958],\n",
              "        [ 0.70570188, -0.36813756],\n",
              "        [-1.47688125,  1.67077814],\n",
              "        [-0.77845465, -1.04777612],\n",
              "        [ 0.4437919 , -0.36813756],\n",
              "        [ 1.40412848,  0.99113958],\n",
              "        [-1.47688125,  0.31150101],\n",
              "        [-0.47289301,  0.99113958],\n",
              "        [ 1.27317349,  0.31150101],\n",
              "        [ 2.05890341,  0.31150101]]), array([[ 0.26918525, -0.36813756],\n",
              "        [ 1.92794842,  1.67077814],\n",
              "        [ 1.01126351,  0.99113958],\n",
              "        [-1.12766795, -0.36813756],\n",
              "        [ 1.66603845,  0.31150101],\n",
              "        [-0.77845465, -0.36813756],\n",
              "        [-1.04036462,  2.35041671]]))"
            ]
          },
          "metadata": {
            "tags": []
          },
          "execution_count": 15
        }
      ]
    },
    {
      "cell_type": "code",
      "metadata": {
        "id": "3ivORa2so4k1",
        "colab_type": "code",
        "colab": {
          "base_uri": "https://localhost:8080/",
          "height": 34
        },
        "outputId": "6cf58c29-cf26-4c52-d687-7008c6cd2bd1"
      },
      "source": [
        "import tensorflow as tf\n",
        "from tensorflow import keras\n",
        "print(tf.__version__)"
      ],
      "execution_count": null,
      "outputs": [
        {
          "output_type": "stream",
          "text": [
            "2.3.0\n"
          ],
          "name": "stdout"
        }
      ]
    },
    {
      "cell_type": "code",
      "metadata": {
        "id": "kRQcC7OPo_gO",
        "colab_type": "code",
        "colab": {}
      },
      "source": [
        "model = keras.Sequential([\n",
        "               keras.layers.Dense(3,input_shape=(2,),activation = tf.nn.relu,name = \"hidden\")       ,    \n",
        "               keras.layers.Dense(1,activation = tf.nn.sigmoid,name = \"output\")\n",
        "\n",
        "\n",
        "])\n",
        "model.compile(loss = 'binary_crossentropy',optimizer ='adam',metrics = ['accuracy'])"
      ],
      "execution_count": null,
      "outputs": []
    },
    {
      "cell_type": "code",
      "metadata": {
        "id": "B7vO_K9X1dj2",
        "colab_type": "code",
        "colab": {
          "base_uri": "https://localhost:8080/",
          "height": 221
        },
        "outputId": "c3646adf-7050-4c7d-907b-32f82b66a021"
      },
      "source": [
        "model.summary()"
      ],
      "execution_count": null,
      "outputs": [
        {
          "output_type": "stream",
          "text": [
            "Model: \"sequential\"\n",
            "_________________________________________________________________\n",
            "Layer (type)                 Output Shape              Param #   \n",
            "=================================================================\n",
            "hidden (Dense)               (None, 3)                 9         \n",
            "_________________________________________________________________\n",
            "output (Dense)               (None, 1)                 4         \n",
            "=================================================================\n",
            "Total params: 13\n",
            "Trainable params: 13\n",
            "Non-trainable params: 0\n",
            "_________________________________________________________________\n"
          ],
          "name": "stdout"
        }
      ]
    },
    {
      "cell_type": "code",
      "metadata": {
        "id": "Bc3pZvEz1uVv",
        "colab_type": "code",
        "colab": {
          "base_uri": "https://localhost:8080/",
          "height": 1000
        },
        "outputId": "bdf4881f-91bc-4dac-e102-7e83210961ae"
      },
      "source": [
        "model.fit(x_train,y_train,epochs = 100,batch_size = 1,verbose = 1 )"
      ],
      "execution_count": null,
      "outputs": [
        {
          "output_type": "stream",
          "text": [
            "Epoch 1/100\n",
            "24/24 [==============================] - 0s 970us/step - loss: 1.0047 - accuracy: 0.5000\n",
            "Epoch 2/100\n",
            "24/24 [==============================] - 0s 967us/step - loss: 0.9822 - accuracy: 0.5000\n",
            "Epoch 3/100\n",
            "24/24 [==============================] - 0s 1ms/step - loss: 0.9591 - accuracy: 0.5000\n",
            "Epoch 4/100\n",
            "24/24 [==============================] - 0s 909us/step - loss: 0.9388 - accuracy: 0.5000\n",
            "Epoch 5/100\n",
            "24/24 [==============================] - 0s 953us/step - loss: 0.9176 - accuracy: 0.5000\n",
            "Epoch 6/100\n",
            "24/24 [==============================] - 0s 905us/step - loss: 0.8977 - accuracy: 0.5000\n",
            "Epoch 7/100\n",
            "24/24 [==============================] - 0s 991us/step - loss: 0.8792 - accuracy: 0.5000\n",
            "Epoch 8/100\n",
            "24/24 [==============================] - 0s 964us/step - loss: 0.8585 - accuracy: 0.5000\n",
            "Epoch 9/100\n",
            "24/24 [==============================] - 0s 935us/step - loss: 0.8409 - accuracy: 0.5417\n",
            "Epoch 10/100\n",
            "24/24 [==============================] - 0s 936us/step - loss: 0.8232 - accuracy: 0.5417\n",
            "Epoch 11/100\n",
            "24/24 [==============================] - 0s 859us/step - loss: 0.8068 - accuracy: 0.5417\n",
            "Epoch 12/100\n",
            "24/24 [==============================] - 0s 898us/step - loss: 0.7889 - accuracy: 0.5417\n",
            "Epoch 13/100\n",
            "24/24 [==============================] - 0s 1ms/step - loss: 0.7733 - accuracy: 0.5417\n",
            "Epoch 14/100\n",
            "24/24 [==============================] - 0s 846us/step - loss: 0.7580 - accuracy: 0.5417\n",
            "Epoch 15/100\n",
            "24/24 [==============================] - 0s 940us/step - loss: 0.7430 - accuracy: 0.5417\n",
            "Epoch 16/100\n",
            "24/24 [==============================] - 0s 953us/step - loss: 0.7293 - accuracy: 0.5417\n",
            "Epoch 17/100\n",
            "24/24 [==============================] - 0s 832us/step - loss: 0.7166 - accuracy: 0.5417\n",
            "Epoch 18/100\n",
            "24/24 [==============================] - 0s 877us/step - loss: 0.7021 - accuracy: 0.5417\n",
            "Epoch 19/100\n",
            "24/24 [==============================] - 0s 1ms/step - loss: 0.6904 - accuracy: 0.5417\n",
            "Epoch 20/100\n",
            "24/24 [==============================] - 0s 1ms/step - loss: 0.6783 - accuracy: 0.5417\n",
            "Epoch 21/100\n",
            "24/24 [==============================] - 0s 952us/step - loss: 0.6658 - accuracy: 0.5833\n",
            "Epoch 22/100\n",
            "24/24 [==============================] - 0s 814us/step - loss: 0.6553 - accuracy: 0.5833\n",
            "Epoch 23/100\n",
            "24/24 [==============================] - 0s 1ms/step - loss: 0.6441 - accuracy: 0.5833\n",
            "Epoch 24/100\n",
            "24/24 [==============================] - 0s 1ms/step - loss: 0.6333 - accuracy: 0.5833\n",
            "Epoch 25/100\n",
            "24/24 [==============================] - 0s 1ms/step - loss: 0.6235 - accuracy: 0.5833\n",
            "Epoch 26/100\n",
            "24/24 [==============================] - 0s 942us/step - loss: 0.6142 - accuracy: 0.5833\n",
            "Epoch 27/100\n",
            "24/24 [==============================] - 0s 867us/step - loss: 0.6036 - accuracy: 0.5833\n",
            "Epoch 28/100\n",
            "24/24 [==============================] - 0s 1ms/step - loss: 0.5947 - accuracy: 0.5833\n",
            "Epoch 29/100\n",
            "24/24 [==============================] - 0s 1ms/step - loss: 0.5858 - accuracy: 0.5833\n",
            "Epoch 30/100\n",
            "24/24 [==============================] - 0s 1ms/step - loss: 0.5780 - accuracy: 0.5833\n",
            "Epoch 31/100\n",
            "24/24 [==============================] - 0s 926us/step - loss: 0.5690 - accuracy: 0.5833\n",
            "Epoch 32/100\n",
            "24/24 [==============================] - 0s 888us/step - loss: 0.5615 - accuracy: 0.5833\n",
            "Epoch 33/100\n",
            "24/24 [==============================] - 0s 1000us/step - loss: 0.5521 - accuracy: 0.5833\n",
            "Epoch 34/100\n",
            "24/24 [==============================] - 0s 1ms/step - loss: 0.5444 - accuracy: 0.5833\n",
            "Epoch 35/100\n",
            "24/24 [==============================] - 0s 963us/step - loss: 0.5364 - accuracy: 0.5833\n",
            "Epoch 36/100\n",
            "24/24 [==============================] - 0s 892us/step - loss: 0.5289 - accuracy: 0.5833\n",
            "Epoch 37/100\n",
            "24/24 [==============================] - 0s 992us/step - loss: 0.5219 - accuracy: 0.5833\n",
            "Epoch 38/100\n",
            "24/24 [==============================] - 0s 1ms/step - loss: 0.5144 - accuracy: 0.5833\n",
            "Epoch 39/100\n",
            "24/24 [==============================] - 0s 1ms/step - loss: 0.5075 - accuracy: 0.5833\n",
            "Epoch 40/100\n",
            "24/24 [==============================] - 0s 1ms/step - loss: 0.5006 - accuracy: 0.5833\n",
            "Epoch 41/100\n",
            "24/24 [==============================] - 0s 906us/step - loss: 0.4946 - accuracy: 0.5833\n",
            "Epoch 42/100\n",
            "24/24 [==============================] - 0s 1ms/step - loss: 0.4884 - accuracy: 0.5833\n",
            "Epoch 43/100\n",
            "24/24 [==============================] - 0s 1ms/step - loss: 0.4817 - accuracy: 0.5833\n",
            "Epoch 44/100\n",
            "24/24 [==============================] - 0s 1ms/step - loss: 0.4751 - accuracy: 0.6250\n",
            "Epoch 45/100\n",
            "24/24 [==============================] - 0s 1ms/step - loss: 0.4683 - accuracy: 0.6250\n",
            "Epoch 46/100\n",
            "24/24 [==============================] - 0s 1ms/step - loss: 0.4622 - accuracy: 0.6667\n",
            "Epoch 47/100\n",
            "24/24 [==============================] - 0s 1ms/step - loss: 0.4564 - accuracy: 0.6667\n",
            "Epoch 48/100\n",
            "24/24 [==============================] - 0s 832us/step - loss: 0.4499 - accuracy: 0.6667\n",
            "Epoch 49/100\n",
            "24/24 [==============================] - 0s 931us/step - loss: 0.4445 - accuracy: 0.6667\n",
            "Epoch 50/100\n",
            "24/24 [==============================] - 0s 948us/step - loss: 0.4386 - accuracy: 0.6667\n",
            "Epoch 51/100\n",
            "24/24 [==============================] - 0s 919us/step - loss: 0.4331 - accuracy: 0.6667\n",
            "Epoch 52/100\n",
            "24/24 [==============================] - 0s 980us/step - loss: 0.4276 - accuracy: 0.6667\n",
            "Epoch 53/100\n",
            "24/24 [==============================] - 0s 1ms/step - loss: 0.4229 - accuracy: 0.6667\n",
            "Epoch 54/100\n",
            "24/24 [==============================] - 0s 1ms/step - loss: 0.4177 - accuracy: 0.6667\n",
            "Epoch 55/100\n",
            "24/24 [==============================] - 0s 1ms/step - loss: 0.4125 - accuracy: 0.6667\n",
            "Epoch 56/100\n",
            "24/24 [==============================] - 0s 1ms/step - loss: 0.4037 - accuracy: 0.6667\n",
            "Epoch 57/100\n",
            "24/24 [==============================] - 0s 968us/step - loss: 0.3973 - accuracy: 0.6667\n",
            "Epoch 58/100\n",
            "24/24 [==============================] - 0s 1ms/step - loss: 0.3895 - accuracy: 0.6667\n",
            "Epoch 59/100\n",
            "24/24 [==============================] - 0s 974us/step - loss: 0.3835 - accuracy: 0.6667\n",
            "Epoch 60/100\n",
            "24/24 [==============================] - 0s 961us/step - loss: 0.3767 - accuracy: 0.7500\n",
            "Epoch 61/100\n",
            "24/24 [==============================] - 0s 1ms/step - loss: 0.3704 - accuracy: 0.7500\n",
            "Epoch 62/100\n",
            "24/24 [==============================] - 0s 989us/step - loss: 0.3652 - accuracy: 0.8333\n",
            "Epoch 63/100\n",
            "24/24 [==============================] - 0s 1ms/step - loss: 0.3604 - accuracy: 0.8750\n",
            "Epoch 64/100\n",
            "24/24 [==============================] - 0s 1ms/step - loss: 0.3564 - accuracy: 0.8750\n",
            "Epoch 65/100\n",
            "24/24 [==============================] - 0s 910us/step - loss: 0.3524 - accuracy: 0.8750\n",
            "Epoch 66/100\n",
            "24/24 [==============================] - 0s 985us/step - loss: 0.3492 - accuracy: 0.8750\n",
            "Epoch 67/100\n",
            "24/24 [==============================] - 0s 968us/step - loss: 0.3454 - accuracy: 0.8750\n",
            "Epoch 68/100\n",
            "24/24 [==============================] - 0s 944us/step - loss: 0.3424 - accuracy: 0.8750\n",
            "Epoch 69/100\n",
            "24/24 [==============================] - 0s 961us/step - loss: 0.3391 - accuracy: 0.8750\n",
            "Epoch 70/100\n",
            "24/24 [==============================] - 0s 936us/step - loss: 0.3362 - accuracy: 0.8750\n",
            "Epoch 71/100\n",
            "24/24 [==============================] - 0s 940us/step - loss: 0.3338 - accuracy: 0.8750\n",
            "Epoch 72/100\n",
            "24/24 [==============================] - 0s 982us/step - loss: 0.3315 - accuracy: 0.8750\n",
            "Epoch 73/100\n",
            "24/24 [==============================] - 0s 966us/step - loss: 0.3299 - accuracy: 0.8750\n",
            "Epoch 74/100\n",
            "24/24 [==============================] - 0s 968us/step - loss: 0.3277 - accuracy: 0.8750\n",
            "Epoch 75/100\n",
            "24/24 [==============================] - 0s 1ms/step - loss: 0.3259 - accuracy: 0.8750\n",
            "Epoch 76/100\n",
            "24/24 [==============================] - 0s 948us/step - loss: 0.3237 - accuracy: 0.9583\n",
            "Epoch 77/100\n",
            "24/24 [==============================] - 0s 949us/step - loss: 0.3219 - accuracy: 0.9583\n",
            "Epoch 78/100\n",
            "24/24 [==============================] - 0s 942us/step - loss: 0.3199 - accuracy: 0.9583\n",
            "Epoch 79/100\n",
            "24/24 [==============================] - 0s 935us/step - loss: 0.3184 - accuracy: 0.9583\n",
            "Epoch 80/100\n",
            "24/24 [==============================] - 0s 998us/step - loss: 0.3165 - accuracy: 0.9583\n",
            "Epoch 81/100\n",
            "24/24 [==============================] - 0s 877us/step - loss: 0.3152 - accuracy: 0.9583\n",
            "Epoch 82/100\n",
            "24/24 [==============================] - 0s 1ms/step - loss: 0.3107 - accuracy: 0.9167\n",
            "Epoch 83/100\n",
            "24/24 [==============================] - 0s 948us/step - loss: 0.3062 - accuracy: 0.9167\n",
            "Epoch 84/100\n",
            "24/24 [==============================] - 0s 948us/step - loss: 0.3026 - accuracy: 0.9167\n",
            "Epoch 85/100\n",
            "24/24 [==============================] - 0s 950us/step - loss: 0.2991 - accuracy: 0.9167\n",
            "Epoch 86/100\n",
            "24/24 [==============================] - 0s 983us/step - loss: 0.2958 - accuracy: 0.9167\n",
            "Epoch 87/100\n",
            "24/24 [==============================] - 0s 1ms/step - loss: 0.2935 - accuracy: 0.9167\n",
            "Epoch 88/100\n",
            "24/24 [==============================] - 0s 994us/step - loss: 0.2902 - accuracy: 0.9167\n",
            "Epoch 89/100\n",
            "24/24 [==============================] - 0s 1ms/step - loss: 0.2875 - accuracy: 0.9167\n",
            "Epoch 90/100\n",
            "24/24 [==============================] - 0s 905us/step - loss: 0.2855 - accuracy: 0.9167\n",
            "Epoch 91/100\n",
            "24/24 [==============================] - 0s 1ms/step - loss: 0.2832 - accuracy: 0.9583\n",
            "Epoch 92/100\n",
            "24/24 [==============================] - 0s 966us/step - loss: 0.2809 - accuracy: 0.9583\n",
            "Epoch 93/100\n",
            "24/24 [==============================] - 0s 1ms/step - loss: 0.2792 - accuracy: 0.9583\n",
            "Epoch 94/100\n",
            "24/24 [==============================] - 0s 910us/step - loss: 0.2771 - accuracy: 0.9583\n",
            "Epoch 95/100\n",
            "24/24 [==============================] - 0s 989us/step - loss: 0.2749 - accuracy: 0.9583\n",
            "Epoch 96/100\n",
            "24/24 [==============================] - 0s 936us/step - loss: 0.2731 - accuracy: 0.9583\n",
            "Epoch 97/100\n",
            "24/24 [==============================] - 0s 1ms/step - loss: 0.2711 - accuracy: 0.9583\n",
            "Epoch 98/100\n",
            "24/24 [==============================] - 0s 948us/step - loss: 0.2696 - accuracy: 0.9583\n",
            "Epoch 99/100\n",
            "24/24 [==============================] - 0s 930us/step - loss: 0.2677 - accuracy: 0.9583\n",
            "Epoch 100/100\n",
            "24/24 [==============================] - 0s 1ms/step - loss: 0.2665 - accuracy: 0.9583\n"
          ],
          "name": "stdout"
        },
        {
          "output_type": "execute_result",
          "data": {
            "text/plain": [
              "<tensorflow.python.keras.callbacks.History at 0x7f61a06a14e0>"
            ]
          },
          "metadata": {
            "tags": []
          },
          "execution_count": 26
        }
      ]
    },
    {
      "cell_type": "code",
      "metadata": {
        "id": "WNcMiUhA12OE",
        "colab_type": "code",
        "colab": {
          "base_uri": "https://localhost:8080/",
          "height": 136
        },
        "outputId": "e19e238d-7ac0-45a5-b8b8-0ba02807ebff"
      },
      "source": [
        "y_test"
      ],
      "execution_count": null,
      "outputs": [
        {
          "output_type": "execute_result",
          "data": {
            "text/plain": [
              "array([[1],\n",
              "       [1],\n",
              "       [1],\n",
              "       [0],\n",
              "       [1],\n",
              "       [0],\n",
              "       [1]])"
            ]
          },
          "metadata": {
            "tags": []
          },
          "execution_count": 31
        }
      ]
    },
    {
      "cell_type": "code",
      "metadata": {
        "id": "yv-Tsedt19C4",
        "colab_type": "code",
        "colab": {}
      },
      "source": [
        "y_pred = model.predict(x_test)"
      ],
      "execution_count": null,
      "outputs": []
    },
    {
      "cell_type": "code",
      "metadata": {
        "id": "l-Yw_Q-n2KrU",
        "colab_type": "code",
        "colab": {
          "base_uri": "https://localhost:8080/",
          "height": 136
        },
        "outputId": "2e74fd61-b1b1-474a-99f6-9696ee2cb5fb"
      },
      "source": [
        "y_test"
      ],
      "execution_count": null,
      "outputs": [
        {
          "output_type": "execute_result",
          "data": {
            "text/plain": [
              "array([[1],\n",
              "       [1],\n",
              "       [1],\n",
              "       [0],\n",
              "       [1],\n",
              "       [0],\n",
              "       [1]])"
            ]
          },
          "metadata": {
            "tags": []
          },
          "execution_count": 34
        }
      ]
    },
    {
      "cell_type": "code",
      "metadata": {
        "id": "yjIxXCHG2QpD",
        "colab_type": "code",
        "colab": {
          "base_uri": "https://localhost:8080/",
          "height": 136
        },
        "outputId": "bf86477c-d6eb-49ff-a6e6-2a6cb01392ed"
      },
      "source": [
        "y_pred"
      ],
      "execution_count": null,
      "outputs": [
        {
          "output_type": "execute_result",
          "data": {
            "text/plain": [
              "array([[0.919828  ],\n",
              "       [0.99995303],\n",
              "       [0.9984748 ],\n",
              "       [0.44568318],\n",
              "       [0.9992604 ],\n",
              "       [0.44568318],\n",
              "       [0.9279382 ]], dtype=float32)"
            ]
          },
          "metadata": {
            "tags": []
          },
          "execution_count": 37
        }
      ]
    },
    {
      "cell_type": "code",
      "metadata": {
        "id": "RBHDmItI2SUV",
        "colab_type": "code",
        "colab": {}
      },
      "source": [
        ""
      ],
      "execution_count": null,
      "outputs": []
    }
  ]
}